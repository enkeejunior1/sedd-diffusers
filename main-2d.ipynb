{
 "cells": [
  {
   "cell_type": "markdown",
   "metadata": {},
   "source": [
    "# SEDD reproduce"
   ]
  },
  {
   "cell_type": "code",
   "execution_count": 1,
   "metadata": {},
   "outputs": [],
   "source": [
    "%load_ext autoreload\n",
    "%autoreload 2"
   ]
  },
  {
   "cell_type": "code",
   "execution_count": 3,
   "metadata": {},
   "outputs": [],
   "source": [
    "import torch\n",
    "from tqdm import tqdm\n",
    "from omegaconf import OmegaConf\n",
    "\n",
    "# load config\n",
    "device = torch.device('cuda')\n",
    "dtype = torch.float32\n",
    "\n",
    "config = {\n",
    "    'noise' : {\n",
    "        'num_train_timesteps' : 1000,\n",
    "        'type'  : 'loglinear',\n",
    "        'eps'   : 1e-4,\n",
    "    },\n",
    "    'graph' : {\n",
    "        'type'  : 'absorb',\n",
    "    },\n",
    "    'dataset' : {\n",
    "        'tokens' : 32,\n",
    "    },\n",
    "    'model' : {\n",
    "        'hidden_size'   : 32,\n",
    "        'cond_dim'      : 64,\n",
    "        'n_heads'       : 1,\n",
    "        'n_blocks'      : 3,\n",
    "        'dropout'       : 0.1,\n",
    "        'scale_by_sigma' : False,\n",
    "    },\n",
    "    'optim' : {\n",
    "        'lr' : 1e-3,\n",
    "    }\n",
    "}\n",
    "\n",
    "config = OmegaConf.create(config)"
   ]
  },
  {
   "cell_type": "code",
   "execution_count": 4,
   "metadata": {},
   "outputs": [],
   "source": [
    "from sedd.utils import ToyDataset\n",
    "\n",
    "# load dataset\n",
    "ds = ToyDataset(n_samples=1024, tokens=config.dataset.tokens-1)\n",
    "dl = torch.utils.data.DataLoader(ds, batch_size=1024)"
   ]
  },
  {
   "cell_type": "code",
   "execution_count": 6,
   "metadata": {},
   "outputs": [],
   "source": [
    "# load model\n",
    "from sedd.model import SEDD\n",
    "model = SEDD(config)"
   ]
  },
  {
   "cell_type": "code",
   "execution_count": 7,
   "metadata": {},
   "outputs": [],
   "source": [
    "# load scheduler\n",
    "from sedd.scheduler import Scheduler, ScoreEntropyLoss\n",
    "scheduler = Scheduler(config)\n",
    "loss_fn = ScoreEntropyLoss(scheduler)"
   ]
  },
  {
   "cell_type": "code",
   "execution_count": 8,
   "metadata": {},
   "outputs": [
    {
     "name": "stderr",
     "output_type": "stream",
     "text": [
      "/usr/local/lib/python3.10/dist-packages/tqdm/auto.py:21: TqdmWarning: IProgress not found. Please update jupyter and ipywidgets. See https://ipywidgets.readthedocs.io/en/stable/user_install.html\n",
      "  from .autonotebook import tqdm as notebook_tqdm\n"
     ]
    }
   ],
   "source": [
    "# prepare training\n",
    "optimizer = torch.optim.Adam(model.parameters(), lr=config.optim.lr)"
   ]
  },
  {
   "cell_type": "code",
   "execution_count": 10,
   "metadata": {},
   "outputs": [],
   "source": [
    "import matplotlib.pyplot as plt\n",
    "\n",
    "def validation(output_dir, name):\n",
    "    scheduler.set_timesteps(num_inference_steps=1000, offset=0, device=device)\n",
    "\n",
    "    num_batch = 256\n",
    "    seq_len = 2\n",
    "\n",
    "    model.eval()\n",
    "\n",
    "    xt = (scheduler.num_vocabs - 1) * torch.ones(num_batch, seq_len, dtype=torch.long) # base distribution\n",
    "    xt = xt.to(device)\n",
    "\n",
    "    for t in tqdm(scheduler.timesteps):\n",
    "        if t == scheduler.timesteps[999]:\n",
    "            break\n",
    "\n",
    "        with torch.no_grad():\n",
    "            # forward\n",
    "            t = torch.tensor([t], device=xt.device)\n",
    "            score = model(xt, t).exp()\n",
    "            \n",
    "            # step\n",
    "            xt = scheduler.step(score, t, xt)\n",
    "\n",
    "            # prev_t\n",
    "            prev_t = scheduler.timesteps[(scheduler.timesteps == t).long().argmax()+1].unsqueeze(0).repeat(xt.size(0))\n",
    "            # xt = scheduler.add_noise(xt, prev_t)\n",
    "\n",
    "    plt.scatter(xt[:, 0].cpu(), xt[:, 1].cpu())\n",
    "    plt.scatter(ds.x[:, 0].cpu(), ds.x[:, 1].cpu(), s=1)\n",
    "    plt.savefig(os.path.join(output_dir, name))\n",
    "    plt.close()\n",
    "    pass"
   ]
  },
  {
   "cell_type": "code",
   "execution_count": 12,
   "metadata": {},
   "outputs": [
    {
     "name": "stderr",
     "output_type": "stream",
     "text": [
      "  0%|          | 0/15000 [00:00<?, ?it/s]"
     ]
    }
   ],
   "source": [
    "import os\n",
    "from tqdm import tqdm\n",
    "\n",
    "# training\n",
    "epochs = 15000\n",
    "\n",
    "output_dir = 'runs/toy-2d'\n",
    "os.makedirs(output_dir, exist_ok=True)\n",
    "\n",
    "model.train()\n",
    "model.to(device, dtype)\n",
    "scheduler.to(device, dtype)\n",
    "\n",
    "loss_traj = []\n",
    "for epoch in tqdm(range(epochs)):\n",
    "    for x0 in dl:\n",
    "        x0 = x0.to(device)\n",
    "        \n",
    "        # perturb x0\n",
    "        t = torch.randint(0, config.noise.num_train_timesteps, (x0.size(0),), device=device)\n",
    "        xt = scheduler.add_noise(x0, t)\n",
    "        \n",
    "        # model forward\n",
    "        log_score = model(xt, t)\n",
    "        \n",
    "        # compute loss function \n",
    "        loss = loss_fn(log_score, t, xt, x0)\n",
    "        \n",
    "        # update\n",
    "        loss.backward()\n",
    "        optimizer.step()\n",
    "        optimizer.zero_grad()\n",
    "\n",
    "        loss_traj.append(loss.item())\n",
    "        # assert False\n",
    "\n",
    "    if epoch % 1000 == 0:\n",
    "        validation(output_dir, name=f'{epoch}.png')\n",
    "\n",
    "        plt.plot(loss_traj)\n",
    "        plt.yscale('log')\n",
    "        plt.savefig(os.path.join(output_dir, 'loss.png'))\n",
    "        plt.close()"
   ]
  },
  {
   "cell_type": "code",
   "execution_count": null,
   "metadata": {},
   "outputs": [],
   "source": []
  }
 ],
 "metadata": {
  "kernelspec": {
   "display_name": "Python 3 (ipykernel)",
   "language": "python",
   "name": "python3"
  },
  "language_info": {
   "codemirror_mode": {
    "name": "ipython",
    "version": 3
   },
   "file_extension": ".py",
   "mimetype": "text/x-python",
   "name": "python",
   "nbconvert_exporter": "python",
   "pygments_lexer": "ipython3",
   "version": "3.10.12"
  }
 },
 "nbformat": 4,
 "nbformat_minor": 2
}
